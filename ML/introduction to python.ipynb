{
 "cells": [
  {
   "cell_type": "markdown",
   "metadata": {
    "id": "dzNng6vCL9eP"
   },
   "source": [
    "#GirlsWhoML: Python Essentials\n",
    "\n",
    "Author: Catherine Tong, Tom Joy\n"
   ]
  },
  {
   "cell_type": "markdown",
   "metadata": {
    "id": "qVrTo-LhL9eS"
   },
   "source": [
    "##Introduction"
   ]
  },
  {
   "cell_type": "markdown",
   "metadata": {
    "id": "U1PvreR9L9eW"
   },
   "source": [
    "This notebook covers essential Python concepts that we will use frequently during the GirlsWhoML courses.\n",
    "\n",
    "Please feel free to use this notebook as a reference if you get stuck in the future. If you get stuck during the notebook or have a question, please ask your demonstrator for help, they're there to help you.\n",
    "\n",
    "We've kept this very streamlined with the hope that you'll talk to each other about how implementing the tasks. This is designed to be very collaborative and just as much of a networking event as it is eductional. So please help each other out and use the internet if you need to!"
   ]
  },
  {
   "cell_type": "markdown",
   "metadata": {
    "id": "832R2HBEPHos"
   },
   "source": [
    "# Variables\n",
    "\n",
    "Create three variables called: x, y, z, which hold the data 3, '3', and 'three'. Think carefully about why types these variables will be."
   ]
  },
  {
   "cell_type": "code",
   "execution_count": 50,
   "metadata": {
    "id": "Y8zd9ys7PKvv"
   },
   "outputs": [
    {
     "name": "stdout",
     "output_type": "stream",
     "text": [
      "3 3 three\n",
      "the value of x is 3.000\n"
     ]
    }
   ],
   "source": [
    "x = 3          \n",
    "y = 3            \n",
    "z = 'three'           \n",
    "print(x, y, z)\n",
    "\n",
    "print(f\"the value of x is {x:.3f}\")"
   ]
  },
  {
   "cell_type": "markdown",
   "metadata": {
    "id": "Nbb3I2hzPfqJ"
   },
   "source": [
    "# Types\n",
    "\n",
    "Print out the types of the variables x, y, z. You can do this useing the `type(variable_name)` function."
   ]
  },
  {
   "cell_type": "code",
   "execution_count": 3,
   "metadata": {
    "id": "ogT4xURLTKkl"
   },
   "outputs": [
    {
     "name": "stdout",
     "output_type": "stream",
     "text": [
      "<class 'int'>\n",
      "<class 'int'>\n",
      "<class 'str'>\n"
     ]
    }
   ],
   "source": [
    "print(type(x))\n",
    "print(type(y))\n",
    "print(type(z))"
   ]
  },
  {
   "cell_type": "markdown",
   "metadata": {
    "id": "2eAVHJ3OPooU"
   },
   "source": [
    "# Operators\n",
    "\n",
    "Print out the values of: x * x, x^2, x + 3, x - 2, x / 2, x % 2.\n",
    "\n",
    "Talk to your demonstrator about what would happend if you tried to compute x * y."
   ]
  },
  {
   "cell_type": "code",
   "execution_count": 6,
   "metadata": {
    "id": "5GtKkCl0UVfp"
   },
   "outputs": [
    {
     "name": "stdout",
     "output_type": "stream",
     "text": [
      "9\n",
      "1\n",
      "6\n",
      "1\n",
      "1.5\n",
      "1\n"
     ]
    }
   ],
   "source": [
    "print(x*x)\n",
    "print(x^2)\n",
    "print(x + 3)\n",
    "print(x - 2)\n",
    "print(x/2)\n",
    "print(x % 2)"
   ]
  },
  {
   "cell_type": "markdown",
   "metadata": {
    "id": "xFgfWOMYPspm"
   },
   "source": [
    "# Logic\n",
    "\n",
    "This simple tasks asks you to write a short program which will describe the weather based on some observations. You will be given two boolean variables (true or false), which tell you if it's raining or not (`raining`)and if it's sunny or not (`sunny`). Given these inputs, implement some logic which will print:\n",
    "\n",
    "* 'It's raining and cloudy', if `raining = True` and `sunny = False`\n",
    "* 'It's dry but cloudy', if `raining = False` and `sunny = False`\n",
    "* \"It's dry and sunny!\", if `raining = False` and `sunny = Sunny`\n",
    "* \"There's a rainbow!\", if `raining = True` and `sunny = True`\n",
    "\n",
    "You will need to use a combination `if else` statements. This is quite a hard task, so it might be worth discussing with each other and your demonstrator before launching in.\n",
    "\n",
    "HINT: You can either use the `and` operator in the statement, or you can also use multiple levels of `if else` statements.\n",
    "\n",
    "\n",
    "\n"
   ]
  },
  {
   "cell_type": "code",
   "execution_count": 51,
   "metadata": {
    "id": "qdPfmYZlYIvB"
   },
   "outputs": [
    {
     "name": "stdout",
     "output_type": "stream",
     "text": [
      "There's a rainbow!\n"
     ]
    }
   ],
   "source": [
    "raining = True\n",
    "sunny = True\n",
    "\n",
    "if raining == True & sunny == False:\n",
    "    print(\"It's raining and cloudy\")\n",
    "elif raining == False & sunny == False:\n",
    "    print(\"It's dry but cloudy\")\n",
    "elif raining == False & sunny == Sunny:\n",
    "    print(\"It's dry and sunny!\")\n",
    "elif raining == True & sunny == True:\n",
    "    print(\"There's a rainbow!\")\n"
   ]
  },
  {
   "cell_type": "markdown",
   "metadata": {
    "id": "5Z8FL9nIPzoC"
   },
   "source": [
    "# Data Structures\n",
    "\n",
    "This is a key part of Python, you'll use the concepts almost everytime you do some programming, so it's important to take your time making sure you understand what's going on and how to use them."
   ]
  },
  {
   "cell_type": "markdown",
   "metadata": {
    "id": "sTJzrAyLP2wA"
   },
   "source": [
    "## Tuples\n",
    "\n",
    "Create a tuple containing the digits `1, 3, 5`"
   ]
  },
  {
   "cell_type": "code",
   "execution_count": 11,
   "metadata": {
    "id": "D57_ApTpbI3s"
   },
   "outputs": [],
   "source": [
    "my_tuple = (1, 3, 5)"
   ]
  },
  {
   "cell_type": "markdown",
   "metadata": {
    "id": "pufObo-KbsiW"
   },
   "source": [
    "What happens if you want to change the second element to contain the value 4, can you do it?\n",
    "\n",
    "No, items cannot be changed in tuples"
   ]
  },
  {
   "cell_type": "markdown",
   "metadata": {
    "id": "hTVoAqbvP408"
   },
   "source": [
    "## Lists\n",
    "\n",
    "Create a list containing the digits `1, 3, 5, 7, 8`\n"
   ]
  },
  {
   "cell_type": "code",
   "execution_count": 12,
   "metadata": {
    "id": "QVb8a4r007MV"
   },
   "outputs": [],
   "source": [
    "my_list = [1, 3, 5, 7, 8]"
   ]
  },
  {
   "cell_type": "markdown",
   "metadata": {
    "id": "7_SDcwOlP7_A"
   },
   "source": [
    "## Dictionaries\n",
    "\n",
    "Create a list containing the values `1, 3, 5`. Use suitable names for the keys."
   ]
  },
  {
   "cell_type": "code",
   "execution_count": 17,
   "metadata": {
    "id": "tSVGGJFX1KeL"
   },
   "outputs": [],
   "source": [
    "my_dictionary = {'first': 1,\n",
    "                'second': 3,\n",
    "                'third': 5} # TODO"
   ]
  },
  {
   "cell_type": "markdown",
   "metadata": {
    "id": "Qrf00LRWQI9m"
   },
   "source": [
    "# Loops\n",
    "\n",
    "Write a loop to calculate the sum of `my_tuple`."
   ]
  },
  {
   "cell_type": "code",
   "execution_count": 15,
   "metadata": {
    "id": "STVxDLWs1Uv2"
   },
   "outputs": [
    {
     "name": "stdout",
     "output_type": "stream",
     "text": [
      "9\n"
     ]
    }
   ],
   "source": [
    "sum = 0\n",
    "for item in my_tuple:\n",
    "    sum += item\n",
    "print(sum)"
   ]
  },
  {
   "cell_type": "markdown",
   "metadata": {
    "id": "lRHV2ttl1c2o"
   },
   "source": [
    "Write a loop to calculate the sum of my_list.\n",
    "\n"
   ]
  },
  {
   "cell_type": "code",
   "execution_count": 16,
   "metadata": {
    "id": "8X3TaJd11f5E"
   },
   "outputs": [
    {
     "name": "stdout",
     "output_type": "stream",
     "text": [
      "24\n"
     ]
    }
   ],
   "source": [
    "sum = 0\n",
    "for item in my_list:\n",
    "    sum += item\n",
    "    \n",
    "print(sum)"
   ]
  },
  {
   "cell_type": "markdown",
   "metadata": {
    "id": "B7tlIyq61wHh"
   },
   "source": [
    "Write a loop which will calculate the sum of all the elements in `my_dictionary`.\n",
    "\n",
    "HINT: You may need to ask your demonstrator or use Google to help you out."
   ]
  },
  {
   "cell_type": "code",
   "execution_count": 20,
   "metadata": {
    "id": "k7aJF2VL1_0A"
   },
   "outputs": [
    {
     "name": "stdout",
     "output_type": "stream",
     "text": [
      "9\n"
     ]
    }
   ],
   "source": [
    "sum = 0\n",
    "for key in my_dictionary:\n",
    "    sum += my_dictionary[key]\n",
    "    \n",
    "print(sum)"
   ]
  },
  {
   "cell_type": "markdown",
   "metadata": {
    "id": "0UrhpfhxQ9Wy"
   },
   "source": [
    "# Functions"
   ]
  },
  {
   "cell_type": "markdown",
   "metadata": {
    "id": "ya6t9AgD2ME7"
   },
   "source": [
    "In the previous excersie we had to wite the same piece of code twice to sum up the tuple and the list. We can clean this up a little bit by putting this functionality into a function. This saves us having the same bits of code written twice, which is always a bad idea."
   ]
  },
  {
   "cell_type": "code",
   "execution_count": 52,
   "metadata": {
    "id": "5K-ftcV72gjf"
   },
   "outputs": [
    {
     "name": "stdout",
     "output_type": "stream",
     "text": [
      "9\n",
      "24\n"
     ]
    }
   ],
   "source": [
    "def sum_array(array):\n",
    "  # TODO add functinality here which will sum up all elements in array\n",
    "    sum = 0\n",
    "    for item in array:\n",
    "        sum += item\n",
    "    return sum\n",
    "\n",
    "print(sum_array(my_tuple))\n",
    "print(sum_array(my_list))"
   ]
  },
  {
   "cell_type": "markdown",
   "metadata": {
    "id": "H7DngFuHQV5N"
   },
   "source": [
    "# Classes\n",
    "\n",
    "Classes can be a bit of a scary concept at first, but are an essential part of programming. The easiest way to think about classes is to think of them as components/modules in a machine, which perorm self contained tasks, but can also interact with other classes. This provides a way for us abstract how things are implemented in the codebase and makes life alot easier when it gets quite large. We'll keep things very simple to start with, as this concept can take a while to grasp, so don't worry if you don't get it right away. Chat with your demonstator and others in the breakout room about classes, discussing is always helpful.\n",
    "\n",
    "As a simple example we're going to use animals. We'll also explore a concept called inheritence, which is a way to enforce that classes are of the same base type, but different, e.g. a bear and a dog are both mammals but not quite the same. "
   ]
  },
  {
   "cell_type": "code",
   "execution_count": 23,
   "metadata": {
    "id": "seI_ibvq7OIQ"
   },
   "outputs": [],
   "source": [
    "class Mammal():\n",
    "  def __init__(self, name):\n",
    "    self.name = name # to be able to access name in other functions\n",
    "\n",
    "  def speak(self):\n",
    "    print(\"Hi there my name is %s\" % self.name)\n",
    "\n",
    "\n",
    "class Bear(Mammal):\n",
    "  def __init__(self, name):\n",
    "    super().__init__(name) # this instantiates the base class Mammal\n",
    "\n",
    "  def dance(self):\n",
    "    # in here we can make the bear dance\n",
    "    print(\"Everybody dance, clap your hands, clap your hands...\") # Chic fan here\n",
    "\n",
    "\n",
    "class Dog(Mammal):\n",
    "  def __init__(self, name):\n",
    "    super().__init__(name)\n",
    "\n",
    "  def fetch(self):\n",
    "    # in here we can make the dog fetch\n",
    "    print(\"Fetch the ball!\")\n"
   ]
  },
  {
   "cell_type": "markdown",
   "metadata": {
    "id": "Oyv0ZntF8E3z"
   },
   "source": [
    "Have a look at the code above closely and talk it through it with your demonstrator. It's important you understand what every piece of the code is doing, don't be affraid to ask if you don't understand what a bit of code is doing.\n",
    "\n",
    "\n",
    "Question: What happens if we now wanted to add a class about reptiles? How would you incorporate this class into the above example? Think carefull about what a base class might be and what you'd need to change. "
   ]
  },
  {
   "cell_type": "code",
   "execution_count": 24,
   "metadata": {
    "id": "Eiv1E-JY8uDk"
   },
   "outputs": [],
   "source": [
    "class Reptile(): # TODO what base class should Reptile inherit from?\n",
    "  def __init__(self, name):\n",
    "    # TODO will we need to call super().__init__()?\n",
    "    self.name = name\n",
    "  def sunbathe(self):\n",
    "    print(\"Vitamin-D + SPF + G&T, doesn't get better than this.\")"
   ]
  },
  {
   "cell_type": "markdown",
   "metadata": {
    "id": "YLLp_O1CQYh_"
   },
   "source": [
    "# Libraries"
   ]
  },
  {
   "cell_type": "markdown",
   "metadata": {
    "id": "a4b4ksI_P6jb"
   },
   "source": [
    "When programming in Python, there's tasks which come up very often, so often in fact that people all over the world have devoted time to write functions and classes which fulfil these common tasks, meaning you don't have to write basic functions from scratch every time. These tasks cover all sorts, e.g. plotting graphs, using matrices etc and are contained in 'modules'.\n",
    "\n",
    "One module which you'll use very very often is numpy. You can import numpy into your programm using: \n",
    "\n",
    "```\n",
    "import numpy as np\n",
    "```\n",
    "\n",
    "You can then access all of numpy's functinality through `np.<nfunction>`, you can check out all of the functions and features here: https://numpy.org/.\n",
    "\n",
    "One of the main featues of numpy is the `np.array` class. It's a way to taks normal Python lists, but add lots of functinality such as mupltiplication etc. You can make a numpy array using `np.array(my_data)`. Create a numpy array called `my_array` below."
   ]
  },
  {
   "cell_type": "code",
   "execution_count": 39,
   "metadata": {
    "id": "M6ckitiYBKFP"
   },
   "outputs": [],
   "source": [
    "import numpy as np\n",
    "data = [1, 2, 3, 4, 5]\n",
    "my_array = np.array(data)"
   ]
  },
  {
   "cell_type": "markdown",
   "metadata": {
    "id": "WXW8CA-gB6cc"
   },
   "source": [
    "You can sum up numpy arrays using `.sum()`. Try this below and check the answer is as expected."
   ]
  },
  {
   "cell_type": "code",
   "execution_count": 29,
   "metadata": {
    "id": "Wc3FsHgdB5CL"
   },
   "outputs": [
    {
     "data": {
      "text/plain": [
       "15"
      ]
     },
     "execution_count": 29,
     "metadata": {},
     "output_type": "execute_result"
    }
   ],
   "source": [
    "my_array.sum()"
   ]
  },
  {
   "cell_type": "markdown",
   "metadata": {
    "id": "nSyIF0zjCKPy"
   },
   "source": [
    "Have a look on the numpy website to see if you can find ways to: multiply my_array by a constant; add a constant and add two arrays together. This excersie is designed to get you comfortable with using the internet to find your answers. 90% of programming is looking up on Google how to do little tasks, as a programmer your job is to bring it all together and know where to look to find the right answer. Don't waste your precious brain power memorizing things, just know where to look to find the right answer."
   ]
  },
  {
   "cell_type": "code",
   "execution_count": 32,
   "metadata": {
    "id": "CSuwCf7wC7JH"
   },
   "outputs": [
    {
     "name": "stdout",
     "output_type": "stream",
     "text": [
      "[ 3  6  9 12 15]\n",
      "[4 5 6 7 8]\n",
      "[ 2  4  6  8 10]\n"
     ]
    }
   ],
   "source": [
    "print(np.multiply(my_array, 3))\n",
    "print(np.add(my_array, 3))\n",
    "print(np.add(my_array, my_array))"
   ]
  },
  {
   "cell_type": "markdown",
   "metadata": {
    "id": "djQyJRSHBcPl"
   },
   "source": [
    "### 2D Arrays"
   ]
  },
  {
   "cell_type": "markdown",
   "metadata": {
    "id": "vRN1f8FH_0kI"
   },
   "source": [
    "Often we want more dimensions in an array than a 1D array, i.e. a matrix, or a grid of numbers. We can easily extend lists and arrays to hold 2D arrays.\n",
    "\n",
    "```\n",
    "my_2d_list = [[1, 2, 3], [4, 5, 6], [7, 8, 9]]\n",
    "```\n",
    "\n",
    "Create a numpy array using the data in `my_2d_list`.\n"
   ]
  },
  {
   "cell_type": "code",
   "execution_count": 34,
   "metadata": {
    "id": "zNhwoY0-__SP"
   },
   "outputs": [
    {
     "name": "stdout",
     "output_type": "stream",
     "text": [
      "[[1 2 3]\n",
      " [4 5 6]\n",
      " [7 8 9]]\n"
     ]
    }
   ],
   "source": [
    "my_2d_list = [[1, 2, 3], [4, 5, 6], [7, 8, 9]]\n",
    "\n",
    "my_2d_array = np.array(my_2d_list)\n",
    "print(my_2d_array)"
   ]
  },
  {
   "cell_type": "markdown",
   "metadata": {
    "id": "auPOoc62FPQf"
   },
   "source": [
    "# Slices\n",
    "\n",
    "We can access elements or slices of arrays using the square brackes `[]`.\n",
    "\n",
    "Using `my_array` which you created previously, print out the 2nd element, and then create a an array which removes the first and last elements of `my_array`.\n",
    "\n",
    "Hint: You can access elements from the right side by using a minus index, e.g. the last element can be accessing by `my_array[-1]`.\n",
    "\n"
   ]
  },
  {
   "cell_type": "code",
   "execution_count": 40,
   "metadata": {
    "id": "030q6kS0VAvU"
   },
   "outputs": [
    {
     "name": "stdout",
     "output_type": "stream",
     "text": [
      "2\n",
      "[2 3 4]\n"
     ]
    }
   ],
   "source": [
    "print(my_array[1])\n",
    "\n",
    "my_array = np.delete(my_array, 0)\n",
    "my_array = np.delete(my_array, -1)\n",
    "print(my_array)"
   ]
  },
  {
   "cell_type": "markdown",
   "metadata": {
    "id": "SJW4tQJgVxNM"
   },
   "source": [
    "## Slicing in 2D arrays\n",
    "\n",
    "We can access elements of 2d Arrays using `[x, y]` at the end of a 2d array, e.g. `my_2d_array[1, 1]` will print the value 5.\n",
    "\n",
    "The first element accesses the rows and the second the columns, to use the entire rows or columns we use colon `:`, e.g. `my_2d_array[:, :] == my_2d_array'.\n",
    "\n",
    "Because we may have more than two dimensions, we use axis rather than rows and columns. An easy way to think about this is arrays of arrays, e.g. the elements of axis 0 contain arrays. It's worth taking a moment to think about this, but if you get stuck just think about the image below.\n",
    "\n",
    "<div>\n",
    "<img src=\"https://i.stack.imgur.com/h1alT.jpg\" width=\"500\"/>\n",
    "</div>\n",
    "\n",
    "\n",
    "Using the `:` operator, try and print the first row and then the first column of `my_2d_array`."
   ]
  },
  {
   "cell_type": "code",
   "execution_count": 45,
   "metadata": {
    "id": "_Am6Bf14W4ju"
   },
   "outputs": [
    {
     "name": "stdout",
     "output_type": "stream",
     "text": [
      "[[1 2 3]\n",
      " [4 5 6]\n",
      " [7 8 9]]\n",
      "[1 2 3]\n",
      "[1 4 7]\n"
     ]
    }
   ],
   "source": [
    "print(my_2d_array)\n",
    "print(my_2d_array[0, :])\n",
    "print(my_2d_array[:, 0])"
   ]
  },
  {
   "cell_type": "code",
   "execution_count": 46,
   "metadata": {
    "id": "FwHomV7ha22V"
   },
   "outputs": [],
   "source": [
    "import numpy as np\n",
    "\n",
    "class Car():\n",
    "  def __init__(self, model, color):\n",
    "    self.model = model\n",
    "    self.color = color\n",
    "    self.dt = 1.0 # 1 second\n",
    "    self.position = np.array([0, 0]) # initial position\n",
    "\n",
    "  def move(self, velocity):\n",
    "    self.position = self.position + self.dt * velocity"
   ]
  },
  {
   "cell_type": "code",
   "execution_count": 47,
   "metadata": {
    "colab": {
     "base_uri": "https://localhost:8080/"
    },
    "executionInfo": {
     "elapsed": 465,
     "status": "ok",
     "timestamp": 1637431173630,
     "user": {
      "displayName": "Tom Joy",
      "photoUrl": "https://lh3.googleusercontent.com/a/default-user=s64",
      "userId": "07417902575004825294"
     },
     "user_tz": 0
    },
    "id": "Lp6h15dNb_7k",
    "outputId": "85022284-bdf9-4082-a0f0-cfd9874970ce"
   },
   "outputs": [
    {
     "name": "stdout",
     "output_type": "stream",
     "text": [
      "Position at t = 0: [0 0]\n",
      "Position at t = 1: [1. 1.]\n"
     ]
    }
   ],
   "source": [
    "my_car = Car(model=\"Tesla\", color=\"Red\")\n",
    "\n",
    "print(\"Position at t = 0:\", my_car.position)\n",
    "\n",
    "velocity = np.array([1, 1])\n",
    "my_car.move(velocity)\n",
    "\n",
    "print(\"Position at t = 1:\", my_car.position)\n"
   ]
  },
  {
   "cell_type": "code",
   "execution_count": null,
   "metadata": {
    "id": "Oq6B3HUqfpYK"
   },
   "outputs": [],
   "source": [
    "€"
   ]
  }
 ],
 "metadata": {
  "colab": {
   "collapsed_sections": [],
   "name": "introduction to python.ipynb",
   "provenance": [
    {
     "file_id": "1re5U8gwM0Dfx1PIOhw45ZNxV3oLD_U2P",
     "timestamp": 1617962361997
    },
    {
     "file_id": "https://github.com/cs231n/cs231n.github.io/blob/master/python-colab.ipynb",
     "timestamp": 1617788580384
    }
   ]
  },
  "kernelspec": {
   "display_name": "Python 3 (ipykernel)",
   "language": "python",
   "name": "python3"
  },
  "language_info": {
   "codemirror_mode": {
    "name": "ipython",
    "version": 3
   },
   "file_extension": ".py",
   "mimetype": "text/x-python",
   "name": "python",
   "nbconvert_exporter": "python",
   "pygments_lexer": "ipython3",
   "version": "3.9.7"
  }
 },
 "nbformat": 4,
 "nbformat_minor": 1
}
